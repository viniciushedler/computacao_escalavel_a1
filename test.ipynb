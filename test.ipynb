{
 "cells": [
  {
   "attachments": {},
   "cell_type": "markdown",
   "metadata": {},
   "source": [
    "todo\n",
    "\n",
    "create left road\n",
    "replicate for right road"
   ]
  },
  {
   "cell_type": "code",
   "execution_count": 4,
   "metadata": {},
   "outputs": [],
   "source": [
    "import numpy as np\n",
    "import secrets as sc"
   ]
  },
  {
   "cell_type": "code",
   "execution_count": 6,
   "metadata": {},
   "outputs": [],
   "source": [
    "RANDOM = sc.SystemRandom()"
   ]
  },
  {
   "cell_type": "code",
   "execution_count": 7,
   "metadata": {},
   "outputs": [],
   "source": [
    "class Car():\n",
    "    pass\n",
    "\n",
    "class Road():\n",
    "    pass"
   ]
  },
  {
   "cell_type": "code",
   "execution_count": 5,
   "metadata": {},
   "outputs": [],
   "source": [
    "def roll_prob(p:float):\n",
    "    return RANDOM.random()<p\n",
    "\n",
    "class Road():\n",
    "\n",
    "    def __init__(\n",
    "            self,\n",
    "            name:str,\n",
    "            length:int,\n",
    "            lanes_left:int,\n",
    "            lanes_right:int,\n",
    "            speed_limit:int,\n",
    "            removal_time:int,\n",
    "            new_car_prob:float,\n",
    "            colision_prob:float,\n",
    "            ) -> None:\n",
    "        \n",
    "        # setting private constants\n",
    "\n",
    "        self._NAME = name\n",
    "        self._LENGTH = length\n",
    "        self._REMOVAL_TIME = removal_time\n",
    "        self._NEW_CAR_PROB = new_car_prob\n",
    "        self._COLISION_PROB = colision_prob\n",
    "\n",
    "        # setting public constants\n",
    "        self.LANES_LEFT = lanes_left\n",
    "        self.LANES_RIGHT = lanes_right\n",
    "        self.SPEED_LIMIT = speed_limit\n",
    "\n",
    "        # creates supporting variables\n",
    "        self._LANES_RANGE = range(self.LANES_LEFT + self.LANES_RIGHT)\n",
    "\n",
    "        # creates the road itself\n",
    "        self.road_left = [ [None] * self._LENGTH ] * (self.LANES_LEFT)\n",
    "        \n",
    "        # creates the list of collided cars and the list of timers for it\n",
    "        self.collided_cars = []\n",
    "        self.collided_timers = []\n",
    "        \n",
    "\n",
    "\n",
    "    def cycle(\n",
    "            self,\n",
    "            ) -> None:\n",
    "        \n",
    "        # add car\n",
    "        if roll_prob(self._NEW_CAR_PROB):\n",
    "\n",
    "            lanes_available = range(self.LANES_LEFT)\n",
    "            added = False\n",
    "\n",
    "            while not added and len(lanes_available):\n",
    "                # choose the lane\n",
    "                lane = sc.choice(lanes_available)\n",
    "                # adds if lane is available\n",
    "                if not self.road_left[lane][0]:\n",
    "                    self.road_left[lane][0] = Car('plate', self, 0)\n",
    "                    added = True\n",
    "                # else eliminates lane from options to try again\n",
    "                else:\n",
    "                    lanes_available.remove(lane)\n",
    "        \n",
    "        # move every car\n",
    "        for lane in self.road_left:\n",
    "            for car in lane:\n",
    "                # does nothing if there's no car\n",
    "                if car==None:\n",
    "                    continue\n",
    "\n",
    "                going_hit = False\n",
    "                \n",
    "                # for every cell ahead the car is going to travel\n",
    "                for dist in range(1, car.speed):\n",
    "                    if self.road_left[car.position[1] + dist]:\n",
    "                        going_hit = True\n",
    "                # move the car being hit\n",
    "                if not going_hit:\n",
    "                    car.position[]\\\n",
    "\n",
    "        # count down on colided cars\n",
    "        for \n",
    "\n",
    "        # register current state"
   ]
  },
  {
   "cell_type": "code",
   "execution_count": 13,
   "metadata": {},
   "outputs": [],
   "source": [
    "class Car():\n",
    "    \n",
    "    models = {\n",
    "        0 : {\n",
    "            'speed_max':10,\n",
    "            'speed_min':5,\n",
    "            'acceleration_max':2,\n",
    "            'acceleration_min':-3,\n",
    "        },\n",
    "        1 : {\n",
    "            'speed_max':15,\n",
    "            'speed_min':7,\n",
    "            'acceleration_max':3,\n",
    "            'acceleration_min':-5,\n",
    "        }\n",
    "    }\n",
    "\n",
    "    def __init__(\n",
    "            self,\n",
    "            plate:str,\n",
    "            road:Road,\n",
    "            model:int,\n",
    "            position: tuple[int, int],\n",
    "            ) -> None:\n",
    "        \n",
    "        self.plate = plate\n",
    "        self.road = road\n",
    "        self.model = model\n",
    "        self.position = position # [lane, cell]\n",
    "        self.speed_max = self.models[model]['speed_max']\n",
    "        self.speed_min = self.models[model]['speed_min']\n",
    "        self.acceleration_max = self.models[model]['acceleration_max']\n",
    "        self.acceleration_min = self.models[model]['acceleration_min']\n",
    "\n",
    "        self.speed = self.speed_min\n",
    "        self.acceleration = self.acceleration_min"
   ]
  },
  {
   "cell_type": "code",
   "execution_count": 8,
   "metadata": {},
   "outputs": [
    {
     "data": {
      "text/plain": [
       "[[None, None, None],\n",
       " [None, None, None],\n",
       " [None, None, None],\n",
       " [None, None, None],\n",
       " [None, None, None]]"
      ]
     },
     "execution_count": 8,
     "metadata": {},
     "output_type": "execute_result"
    }
   ],
   "source": [
    "[[None] * 3] * 5"
   ]
  }
 ],
 "metadata": {
  "kernelspec": {
   "display_name": "Python 3",
   "language": "python",
   "name": "python3"
  },
  "language_info": {
   "codemirror_mode": {
    "name": "ipython",
    "version": 3
   },
   "file_extension": ".py",
   "mimetype": "text/x-python",
   "name": "python",
   "nbconvert_exporter": "python",
   "pygments_lexer": "ipython3",
   "version": "3.10.11"
  },
  "orig_nbformat": 4
 },
 "nbformat": 4,
 "nbformat_minor": 2
}
