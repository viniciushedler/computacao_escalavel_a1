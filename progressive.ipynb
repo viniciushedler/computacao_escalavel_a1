{
 "cells": [
  {
   "cell_type": "code",
   "execution_count": 25,
   "metadata": {},
   "outputs": [],
   "source": [
    "import random\n",
    "import os"
   ]
  },
  {
   "cell_type": "code",
   "execution_count": 21,
   "metadata": {},
   "outputs": [
    {
     "name": "stdout",
     "output_type": "stream",
     "text": [
      "Can't create car on lane 1\n",
      "Way is obstructed at lane 1 length 2\n"
     ]
    },
    {
     "data": {
      "text/plain": [
       "[[0, 0, 0, 0, 0, 0, -1, 0, 0, 0, 0, 0, 0, 0, 0, 0, 0, 0, 0, 0],\n",
       " [0, 0, 1, 0, 0, 0, 0, 0, 0, 0, 0, 0, 0, 0, 0, 0, 0, 0, 0, 0],\n",
       " [0, 0, 0, 0, 0, 0, 0, 0, 0, 0, 0, 0, 0, 0, 0, 0, 0, 0, 0, 0]]"
      ]
     },
     "execution_count": 21,
     "metadata": {},
     "output_type": "execute_result"
    }
   ],
   "source": [
    "class Road():\n",
    "\n",
    "    def __init__(self):\n",
    "        self.length = 20\n",
    "        self.lanes = 3\n",
    "        self.road = [ [0] * self.length for _ in range(self.lanes) ]\n",
    "    \n",
    "    def create_car(self, lane=None):\n",
    "        if lane==None:\n",
    "            lane = random.choice(range(self.lanes))\n",
    "        if self.road[lane][0] == 0:\n",
    "            self.road[lane][0] = 1\n",
    "        else:\n",
    "            print(f\"Can't create car on lane {lane}\")\n",
    "    \n",
    "    def accelerate(self, lane, length, acc=1):\n",
    "        if self.road[lane][length] > 0:\n",
    "            self.road[lane][length] += acc\n",
    "    \n",
    "    def change_lane(self, lane, length):\n",
    "        if lane>0:\n",
    "            if self.road[lane-1][length] == 0:\n",
    "                self.road[lane-1][length] = self.road[lane][length]\n",
    "                self.road[lane][length] = 0\n",
    "                return lane-1\n",
    "        if lane<self.lanes-1:\n",
    "            if self.road[lane+1][length] == 0:\n",
    "                self.road[lane+1][length] = self.road[lane][length]\n",
    "                self.road[lane][length] = 0\n",
    "                return lane+1\n",
    "        return -1\n",
    "\n",
    "    def move(self, lane, length):\n",
    "        if self.road[lane][length] <= 0:\n",
    "            return\n",
    "        \n",
    "        free = True\n",
    "\n",
    "        # First try at moving the car\n",
    "        for dist in range(1, self.road[lane][length]+1):\n",
    "            if self.road[lane][length + dist] != 0:\n",
    "                free = False\n",
    "                print(f\"Way is obstructed at lane {lane} length {length + dist}\")\n",
    "        if free:\n",
    "            self.road[lane][length + dist] = self.road[lane][length]\n",
    "            self.road[lane][length] = 0\n",
    "        # second try\n",
    "        else:\n",
    "            # tries changing lane and move afterwards\n",
    "            new_lane = self.change_lane(lane, length)\n",
    "        \n",
    "            # if changed lanes, \n",
    "            if new_lane != -1:\n",
    "                lane = new_lane\n",
    "            elif self.road[lane][length]>1: # else, deaccelerates\n",
    "                self.accelerate(lane, length, -1)\n",
    "\n",
    "            free = True\n",
    "            for dist in range(1, self.road[lane][length]+1):\n",
    "                # collision\n",
    "                if self.road[lane][length + dist] != 0:\n",
    "                    self.road[lane][length + dist] = -1\n",
    "                    free = False\n",
    "                    break\n",
    "            \n",
    "            if free:\n",
    "                # puts it in new position\n",
    "                self.road[lane][length + dist] = self.road[lane][length]\n",
    "            # removes the car from old position\n",
    "            self.road[lane][length] = 0\n",
    "\n",
    "    def move_all(self):\n",
    "        \n",
    "        for length in range(self.length, -1, -1):\n",
    "            for lane in range(self.lanes):\n",
    "                self.move(lane, length)\n",
    "    \n",
    "    def cycle(self):\n",
    "        if random.random()>0.3:\n",
    "            self.create_car()\n",
    "        \n",
    "        for length in range(self.length, -1, -1):\n",
    "            for lane in range(self.lanes):\n",
    "                self.accelerate(lane, length)\n",
    "                self.move(lane, length)\n",
    "\n",
    "    def __str__(self):\n",
    "        string = \"\"\n",
    "        for lane in self.road:\n",
    "            for car in lane:\n",
    "                string += str(car) + \" \"\n",
    "            string += \"\\n\"\n",
    "        return string\n",
    "\n",
    "    def main(self):\n",
    "        while True:\n",
    "            os.system('cls')\n",
    "            self.cycle()\n",
    "            print(self)\n",
    "            input()\n",
    "\n",
    "r = Road()\n",
    "\n",
    "r.create_car(0)\n",
    "r.create_car(1)\n",
    "r.create_car(1)\n",
    "\n",
    "r.accelerate(0, 0, 2)\n",
    "r.accelerate(2, 10, 5)\n",
    "\n",
    "r.move(0, 0)\n",
    "r.move(1, 0)\n",
    "r.move(2, 10)\n",
    "\n",
    "r.create_car(1)\n",
    "\n",
    "r.accelerate(1, 0, 5)\n",
    "\n",
    "r.move(0, 3)\n",
    "r.move(1, 1)\n",
    "r.move(1, 0)\n",
    "\n",
    "r.road"
   ]
  },
  {
   "cell_type": "code",
   "execution_count": 19,
   "metadata": {},
   "outputs": [
    {
     "data": {
      "text/plain": [
       "[[0, 0, 0, 0, 0, 0, 3, 0, 0, 0, 0, 0, 0, 0, 0, 0, 0, 0, 0, 0],\n",
       " [0, 0, 3, 0, 1, 0, 0, 0, 0, 0, 0, 0, 0, 0, 0, 0, 0, 0, 0, 0],\n",
       " [0, 0, 0, 0, 0, 0, 0, 0, 0, 0, 0, 0, 0, 0, 0, 0, 0, 0, 0, 0]]"
      ]
     },
     "execution_count": 19,
     "metadata": {},
     "output_type": "execute_result"
    }
   ],
   "source": [
    "r.road[1][4] = 1\n",
    "r.road[1][2] = 3\n",
    "r.road"
   ]
  },
  {
   "cell_type": "code",
   "execution_count": 20,
   "metadata": {},
   "outputs": [
    {
     "name": "stdout",
     "output_type": "stream",
     "text": [
      "Way is obstructed at lane 1 length 4\n"
     ]
    },
    {
     "data": {
      "text/plain": [
       "[[0, 0, 0, 0, 0, 3, 3, 0, 0, 0, 0, 0, 0, 0, 0, 0, 0, 0, 0, 0],\n",
       " [0, 0, 0, 0, 1, 0, 0, 0, 0, 0, 0, 0, 0, 0, 0, 0, 0, 0, 0, 0],\n",
       " [0, 0, 0, 0, 0, 0, 0, 0, 0, 0, 0, 0, 0, 0, 0, 0, 0, 0, 0, 0]]"
      ]
     },
     "execution_count": 20,
     "metadata": {},
     "output_type": "execute_result"
    }
   ],
   "source": [
    "r.move(1, 2)\n",
    "r.road"
   ]
  },
  {
   "cell_type": "code",
   "execution_count": 24,
   "metadata": {},
   "outputs": [
    {
     "name": "stdout",
     "output_type": "stream",
     "text": [
      "19\n",
      "18\n",
      "17\n",
      "16\n",
      "15\n",
      "14\n",
      "13\n",
      "12\n",
      "11\n",
      "10\n",
      "9\n",
      "8\n",
      "7\n",
      "6\n",
      "5\n",
      "4\n",
      "3\n",
      "2\n",
      "1\n",
      "0\n"
     ]
    }
   ],
   "source": [
    "for i in range(r.length-1, -1, -1):\n",
    "    print(i)"
   ]
  }
 ],
 "metadata": {
  "kernelspec": {
   "display_name": "Python 3",
   "language": "python",
   "name": "python3"
  },
  "language_info": {
   "codemirror_mode": {
    "name": "ipython",
    "version": 3
   },
   "file_extension": ".py",
   "mimetype": "text/x-python",
   "name": "python",
   "nbconvert_exporter": "python",
   "pygments_lexer": "ipython3",
   "version": "3.10.11"
  },
  "orig_nbformat": 4
 },
 "nbformat": 4,
 "nbformat_minor": 2
}
